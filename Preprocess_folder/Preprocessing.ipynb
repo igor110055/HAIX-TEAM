{
  "cells": [
    {
      "cell_type": "code",
      "execution_count": 5,
      "metadata": {
        "id": "V62GbCZSLoH-"
      },
      "outputs": [],
      "source": [
        "import pandas as pd\n",
        "import numpy as np"
      ]
    },
    {
      "cell_type": "code",
      "execution_count": 6,
      "metadata": {},
      "outputs": [],
      "source": [
        "df_train = pd.read_csv('allbenchmark_8may.csv')\n",
        "# df_test=pd.read_csv('benchmark_progress.csv', skiprows=range(1, 301), nrows=30)\n",
        "predict=pd.read_csv('predict.csv')\n",
        "part_train = df_train.sample(frac =0.9)\n",
        "test = df_train.drop(part_train.index)\n",
        "# dev_test=part_train.sample(n=10)\n",
        "train =part_train.sample(frac =0.95)\n",
        "dev_test = part_train.drop(train.index)\n"
      ]
    },
    {
      "cell_type": "code",
      "execution_count": 7,
      "metadata": {},
      "outputs": [
        {
          "data": {
            "text/plain": [
              "(5, 1)"
            ]
          },
          "execution_count": 7,
          "metadata": {},
          "output_type": "execute_result"
        }
      ],
      "source": [
        "dev_test.shape\n",
        "# test.shape"
      ]
    },
    {
      "cell_type": "code",
      "execution_count": 8,
      "metadata": {},
      "outputs": [],
      "source": [
        "train.to_csv('/home/azureuser/david/absa_artifacts/data/rest14/train.txt', index=False)\n",
        "dev_test.to_csv('/home/azureuser/david/absa_artifacts/data/rest14/dev.txt', index=False)\n",
        "test.to_csv('/home/azureuser/david/absa_artifacts/data/rest14/test.txt', index=False)\n",
        "predict.to_csv('/home/azureuser/david/absa_artifacts/data/tweet10/test.txt', index=False)\n"
      ]
    },
    {
      "cell_type": "code",
      "execution_count": null,
      "metadata": {},
      "outputs": [],
      "source": []
    },
    {
      "cell_type": "code",
      "execution_count": null,
      "metadata": {},
      "outputs": [],
      "source": []
    }
  ],
  "metadata": {
    "colab": {
      "name": "Aspect_Based.ipynb",
      "provenance": []
    },
    "interpreter": {
      "hash": "31f2aee4e71d21fbe5cf8b01ff0e069b9275f58929596ceb00d14d90e3e16cd6"
    },
    "kernelspec": {
      "display_name": "Python 3.8.10 64-bit",
      "language": "python",
      "name": "python3"
    },
    "language_info": {
      "codemirror_mode": {
        "name": "ipython",
        "version": 3
      },
      "file_extension": ".py",
      "mimetype": "text/x-python",
      "name": "python",
      "nbconvert_exporter": "python",
      "pygments_lexer": "ipython3",
      "version": "3.8.10"
    }
  },
  "nbformat": 4,
  "nbformat_minor": 0
}
